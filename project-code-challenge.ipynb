{
 "cells": [
  {
   "cell_type": "markdown",
   "metadata": {},
   "source": [
    "<img src=\"http://imgur.com/1ZcRyrc.png\" style=\"float: left; margin: 20px; height: 55px\">\n",
    "\n",
    "# Project 1: Python Coding Exercises\n",
    "\n",
    "_Authors: Joseph Nelson (DC) _\n",
    "\n",
    "---"
   ]
  },
  {
   "cell_type": "markdown",
   "metadata": {},
   "source": [
    "The following code challenges are drawn from common exercises used in technical interviews.\n",
    "\n",
    "Please note that there may be several ways to approach each challenge. If you get stuck, try mapping out your approach in pseudocode first. Finally, while solutions to problems like these may be found online, remember that if you copy/paste code that you can't explain, you'll be missing out on the point of the project. The only way to truly learn a new skill is through practice, trial, and error - we can only help you improve by understanding where you are having trouble."
   ]
  },
  {
   "cell_type": "markdown",
   "metadata": {},
   "source": [
    "### Challenge 1: Largest Palindrome\n",
    "A palindromic number reads the same both ways. For example, 1234321 is a palindrome. The largest palindrome made from the product of two two-digit numbers is 9009 = 91 × 99. Find the largest palindrome made from the product of two three-digit numbers. Afterward, write a brief explanation walking through your code's logic in markdown."
   ]
  },
  {
   "cell_type": "code",
   "execution_count": 2,
   "metadata": {},
   "outputs": [
    {
     "name": "stdout",
     "output_type": "stream",
     "text": [
      "The largest palindrome made from the product of two three-digit numbers is 906609\n"
     ]
    }
   ],
   "source": [
    "#check whether the number receive from prod_threeDigit() is palindrome or not\n",
    "def ispalindrome(n):\n",
    "    return str(n) == str(n)[::-1]\n",
    "\n",
    "#To find the largest palindrom made from product of two three-digit numbers\n",
    "threeDigit_list=[]\n",
    "for i in range(100,1000):\n",
    "    for j in range(100,1000):\n",
    "        total = i * j\n",
    "        if ispalindrome(total): \n",
    "            threeDigit_list.append(total)\n",
    "print(\"The largest palindrome made from the product of two three-digit numbers is {}\".format(max(threeDigit_list)))"
   ]
  },
  {
   "cell_type": "markdown",
   "metadata": {},
   "source": [
    "First, what I did is make a function that receive total product of two three-digit number as an argument to check whether the total product of those two number is a palindromic number or not by convert the number into string and reverse it.\n",
    "\n",
    "Then, I declare an empty list to store the product of two three-digit number into list. After that i created a loop that nested in other loop that will run in range from 100 - 999 since we want to find the largest palindrome made from the product of two three-digit numbers. In the second for-loop, multiplication of those two three-digit numbers is involved and ispalindrome() function. If the condition is true, total of the product will be added in to threeDigit_list.\n",
    "\n",
    "Lastly, I print the largest number in the list by using pre-defined function max() in python. "
   ]
  },
  {
   "cell_type": "markdown",
   "metadata": {},
   "source": [
    "\n",
    "### Challenge 2: Summation of Primes\n",
    "The sum of the primes below 10 is 2 + 3 + 5 + 7 = 17. Find the sum of all the primes below 2,000. Afterward, write a brief explanation walking through your code's logic in markdown."
   ]
  },
  {
   "cell_type": "code",
   "execution_count": 4,
   "metadata": {},
   "outputs": [
    {
     "name": "stdout",
     "output_type": "stream",
     "text": [
      "The sum of all the primes below 2,000 is 277050\n"
     ]
    }
   ],
   "source": [
    "#check whether the number is prime number or not\n",
    "def isPrime(num):\n",
    "    boolean = True\n",
    "    for i in range(2, num):\n",
    "        if(num%i) == 0:\n",
    "            boolean = False\n",
    "            break\n",
    "    return boolean\n",
    "\n",
    "sum_prime = 2\n",
    "\n",
    "#find total sum of prime below 2000\n",
    "for i in range(3,2000):\n",
    "    if isPrime(i):\n",
    "        sum_prime += i\n",
    "\n",
    "print(\"The sum of all the primes below 2,000 is {}\".format(sum_prime))"
   ]
  },
  {
   "cell_type": "markdown",
   "metadata": {},
   "source": [
    "Similar to Challenge 1, first, I check whether the number is prime or not by using a function isPrime(). For the summation part, I'm starting with declare sum_prime variable into 2 since the first prime number is 2. After that I make a for-loop that will run in starting from 3 until 1999 that include of checking whether 'i' prime number or not. If the condition is true, it will do the sum operation of all prime numbers. And lastly, I print the total sum of all prime numbers that below 2000. "
   ]
  },
  {
   "cell_type": "markdown",
   "metadata": {},
   "source": [
    "### Challenge 3: Multiples of 3 and 5\n",
    "If we list all of the natural numbers below 10 that are multiples of 3 or 5, we get 3, 5, 6, and 9. The sum of these multiples is 23. Find the sum of all the multiples of 3 and 5 below 1,000. Afterward, write a brief explanation walking through your code's logic in markdown."
   ]
  },
  {
   "cell_type": "code",
   "execution_count": 6,
   "metadata": {},
   "outputs": [
    {
     "name": "stdout",
     "output_type": "stream",
     "text": [
      "the sum of all the multiples of 3 and 5 below 1,000 is 233168\n"
     ]
    }
   ],
   "source": [
    "#declare a variable \n",
    "total = 0\n",
    "\n",
    "#Find the sum of all the multiples of 3 and 5 below 1,000\n",
    "for i in range(1, 1000):\n",
    "    if (i%3 == 0 or i%5 == 0):\n",
    "        total += i\n",
    "print(\"the sum of all the multiples of 3 and 5 below 1,000 is {}\".format(total))"
   ]
  },
  {
   "cell_type": "markdown",
   "metadata": {},
   "source": [
    "For this challenge, I start by declaring a variable 'total' to 0. Then we find the sum of all the multiples of 3 and 5 below 1,000 by running a loop in a range from 1 to 999 with a condition that modulo of 3 or 5 is equal to 0.If the condition is met, the summation all the multiples of 3 and 5 will execute and lastly outside the loop we print the total sum of those numbers."
   ]
  },
  {
   "cell_type": "markdown",
   "metadata": {},
   "source": [
    "### Challenge 4: String Compressor\n",
    "Implement a method to perform basic string compression using the counts of repeated characters. (This is called run-length encoding.) For example, the string \"aabcccccaaa\" would become a2b1c5a3. If the “compressed” string would not become smaller than the original string, your method should return the original string. You can assume the string has only uppercase and lowercase letters (a–z). Specify whether your solution is case sensitive or case insensitive and what you would need to change to make it the other. Afterward, write a brief explanation walking through your code's logic in markdown."
   ]
  },
  {
   "cell_type": "code",
   "execution_count": 10,
   "metadata": {},
   "outputs": [
    {
     "name": "stdout",
     "output_type": "stream",
     "text": [
      "aabbccdd\n",
      "a3b3c3\n",
      "a3A2\n"
     ]
    }
   ],
   "source": [
    "# String compressor function\n",
    "def str_compressor(text):\n",
    "    #initialize variable\n",
    "    comp_text = \"\"\n",
    "    count = 1\n",
    "\n",
    "    #loop through the text\n",
    "    for i in range(len(text)-1):\n",
    "        #check whether next character is the same as current character and count it if it the same \n",
    "        if text[i] == text[i+1]:\n",
    "            count += 1\n",
    "        else:\n",
    "            comp_text = comp_text + text[i] + str(count)\n",
    "            count = 1\n",
    "    comp_text = comp_text + text[i] + str(count)\n",
    "\n",
    "    #check whether compressed string is become smaller or not\n",
    "    if len(comp_text) >= len(text):\n",
    "        return text\n",
    "    else:\n",
    "        return comp_text\n",
    "\n",
    "\n",
    "print(str_compressor(\"aabbccdd\"))\n",
    "print(str_compressor(\"aaabbbccc\"))\n",
    "print(str_compressor(\"aaaAA\"))"
   ]
  },
  {
   "cell_type": "markdown",
   "metadata": {},
   "source": [
    "For this challenge, I started by created a function that receive 'text' as an argument to compressed the string. In the function, I started by initialized the comp_text to empty string and count to 1. Next, I did for-loop that run in length of the string. Then, we make if-else statement to check whether next character is the same as current character and count it if it the same. After finish for-loop, we check whether compressed string is become smaller or not. If it did not, we returned the original string. As you can see the first output, it print the original string while the second output return the compressed string. For your information, my solution is a case sensitive as my third output did not recognize 'A' as the same as 'a'"
   ]
  },
  {
   "cell_type": "markdown",
   "metadata": {},
   "source": [
    "### *BONUS* Challenge: FizzBuzz\n",
    "Write a program that prints all of the numbers from 1 to 100. For multiples of 3, instead of the number, print \"Fizz;\" for multiples of 5, print \"Buzz.\" For numbers that are multiples of both 3 and 5, print \"FizzBuzz.\" Afterward, write a brief explanation walking through your code's logic in markdown."
   ]
  },
  {
   "cell_type": "code",
   "execution_count": 11,
   "metadata": {},
   "outputs": [
    {
     "name": "stdout",
     "output_type": "stream",
     "text": [
      "1\n",
      "2\n",
      "Fizz\n",
      "3\n",
      "4\n",
      "Buzz\n",
      "5\n",
      "Fizz\n",
      "6\n",
      "7\n",
      "8\n",
      "Fizz\n",
      "9\n",
      "Buzz\n",
      "10\n",
      "11\n",
      "Fizz\n",
      "12\n",
      "13\n",
      "14\n",
      "Fizz\n",
      "Buzz\n",
      "FizzBuzz\n",
      "16\n",
      "17\n",
      "Fizz\n",
      "18\n",
      "19\n",
      "Buzz\n",
      "20\n",
      "Fizz\n",
      "21\n",
      "22\n",
      "23\n",
      "Fizz\n",
      "24\n",
      "Buzz\n",
      "25\n",
      "26\n",
      "Fizz\n",
      "27\n",
      "28\n",
      "29\n",
      "Fizz\n",
      "Buzz\n",
      "FizzBuzz\n",
      "31\n",
      "32\n",
      "Fizz\n",
      "33\n",
      "34\n",
      "Buzz\n",
      "35\n",
      "Fizz\n",
      "36\n",
      "37\n",
      "38\n",
      "Fizz\n",
      "39\n",
      "Buzz\n",
      "40\n",
      "41\n",
      "Fizz\n",
      "42\n",
      "43\n",
      "44\n",
      "Fizz\n",
      "Buzz\n",
      "FizzBuzz\n",
      "46\n",
      "47\n",
      "Fizz\n",
      "48\n",
      "49\n",
      "Buzz\n",
      "50\n",
      "Fizz\n",
      "51\n",
      "52\n",
      "53\n",
      "Fizz\n",
      "54\n",
      "Buzz\n",
      "55\n",
      "56\n",
      "Fizz\n",
      "57\n",
      "58\n",
      "59\n",
      "Fizz\n",
      "Buzz\n",
      "FizzBuzz\n",
      "61\n",
      "62\n",
      "Fizz\n",
      "63\n",
      "64\n",
      "Buzz\n",
      "65\n",
      "Fizz\n",
      "66\n",
      "67\n",
      "68\n",
      "Fizz\n",
      "69\n",
      "Buzz\n",
      "70\n",
      "71\n",
      "Fizz\n",
      "72\n",
      "73\n",
      "74\n",
      "Fizz\n",
      "Buzz\n",
      "FizzBuzz\n",
      "76\n",
      "77\n",
      "Fizz\n",
      "78\n",
      "79\n",
      "Buzz\n",
      "80\n",
      "Fizz\n",
      "81\n",
      "82\n",
      "83\n",
      "Fizz\n",
      "84\n",
      "Buzz\n",
      "85\n",
      "86\n",
      "Fizz\n",
      "87\n",
      "88\n",
      "89\n",
      "Fizz\n",
      "Buzz\n",
      "FizzBuzz\n",
      "91\n",
      "92\n",
      "Fizz\n",
      "93\n",
      "94\n",
      "Buzz\n",
      "95\n",
      "Fizz\n",
      "96\n",
      "97\n",
      "98\n",
      "Fizz\n",
      "99\n",
      "Buzz\n",
      "100\n"
     ]
    }
   ],
   "source": [
    "for i in range(1, 101):\n",
    "  if i%3 == 0:\n",
    "    print(\"Fizz\")\n",
    "  if i%5 == 0:\n",
    "    print(\"Buzz\")\n",
    "  if i%3 == 0 and i%5 == 0:\n",
    "    print(\"FizzBuzz\")\n",
    "  else:\n",
    "    print(i)"
   ]
  },
  {
   "cell_type": "markdown",
   "metadata": {},
   "source": [
    "For this bonus challenge, i use for-loop that will run in range from 1 to 100. Inside that loop I wrote a few 'if-else' statement to print specific output. "
   ]
  }
 ],
 "metadata": {
  "anaconda-cloud": {},
  "kernelspec": {
   "display_name": "Python 3",
   "language": "python",
   "name": "python3"
  },
  "language_info": {
   "codemirror_mode": {
    "name": "ipython",
    "version": 3
   },
   "file_extension": ".py",
   "mimetype": "text/x-python",
   "name": "python",
   "nbconvert_exporter": "python",
   "pygments_lexer": "ipython3",
   "version": "3.8.6"
  }
 },
 "nbformat": 4,
 "nbformat_minor": 2
}
